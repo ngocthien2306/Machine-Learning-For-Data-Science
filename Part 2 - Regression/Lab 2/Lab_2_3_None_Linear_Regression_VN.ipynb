{
  "nbformat": 4,
  "nbformat_minor": 0,
  "metadata": {
    "kernelspec": {
      "display_name": "Python 3",
      "language": "python",
      "name": "python3"
    },
    "language_info": {
      "codemirror_mode": {
        "name": "ipython",
        "version": 3
      },
      "file_extension": ".py",
      "mimetype": "text/x-python",
      "name": "python",
      "nbconvert_exporter": "python",
      "pygments_lexer": "ipython3",
      "version": "3.7.6"
    },
    "colab": {
      "provenance": []
    }
  },
  "cells": [
    {
      "cell_type": "markdown",
      "metadata": {
        "id": "2-U31E_BlIPP"
      },
      "source": [
        "# Phân tích Hồi quy Phi tuyến tính\n",
        "\n",
        "Thời lượng ước tính: **45** phút\n",
        "\n",
        "## Mục tiêu\n",
        "\n",
        "Sau khi hoàn thành lab này bạn sẽ có thể:\n",
        "\n",
        "-   Phân biệt giữa Hồi quy Tuyến tính và Hồi quy Phi Tuyến tính\n",
        "-   Sử dụng Hồi quy Phi Tuyến tính trong Python\n"
      ]
    },
    {
      "cell_type": "markdown",
      "metadata": {
        "id": "VYiWvO8slIPe"
      },
      "source": [
        "Nếu dữ liệu cho thấy xu hướng cong, thì hồi quy tuyến tính sẽ không tạo ra kết quả chính xác so với hồi quy phi tuyến tính bởi vì, như tên của nó, hồi quy tuyến tính cho rằng dữ liệu là tuyến tính.\n",
        "Hãy cùng tìm hiểu về hồi quy phi tuyến tính và áp dụng một ví dụ trong python. Trong notebook này, chúng ta fit mô hình phi tuyến tính với các điểm dữ liệu tương ứng với GDP của Trung Quốc từ 1960-2014.\n"
      ]
    },
    {
      "cell_type": "markdown",
      "metadata": {
        "id": "tVTCeOvNlIPf"
      },
      "source": [
        "<h2 id=\"importing_libraries\">Import các thư viện cần thiết</h2>\n"
      ]
    },
    {
      "cell_type": "code",
      "metadata": {
        "id": "Ja7sjJW7lIPg"
      },
      "source": [
        "import numpy as np\n",
        "import matplotlib.pyplot as plt\n",
        "%matplotlib inline"
      ],
      "execution_count": null,
      "outputs": []
    },
    {
      "cell_type": "markdown",
      "metadata": {
        "id": "UlpsEvAqlIPi"
      },
      "source": [
        "Mặc dù hồi quy tuyến tính rất tốt để giải quyết nhiều bài toán nhưng nó không thể được sử dụng cho mọi tập dữ liệu. Trước tiên hãy nhớ lại cách hồi quy tuyến tính có thể mô hình hóa một tập dữ liệu. Nó mô hình hóa mối quan hệ tuyến tính giữa biến phụ thuộc y và biến độc lập x. Nó có một phương trình bậc 1 đơn giản, chẳng hạn: y = $2x$ + 3.\n"
      ]
    },
    {
      "cell_type": "code",
      "metadata": {
        "id": "CfOBlPqrlIPi"
      },
      "source": [
        "x = np.arange(-5.0, 5.0, 0.1)\n",
        "\n",
        "# Bạn có thể điều chỉnh độ dốc và hệ số chặn để xác minh những thay đổi trong biểu đồ\n",
        "y = 2*(x) + 3\n",
        "y_noise = 2 * np.random.normal(size=x.size)\n",
        "ydata = y + y_noise\n",
        "#plt.figure(figsize=(8,6))\n",
        "plt.plot(x, ydata,  'bo')\n",
        "plt.plot(x,y, 'r') \n",
        "plt.ylabel('Dependent Variable')\n",
        "plt.xlabel('Independent Variable')\n",
        "plt.show()"
      ],
      "execution_count": null,
      "outputs": []
    },
    {
      "cell_type": "markdown",
      "metadata": {
        "id": "Zj7lYwNylIPk"
      },
      "source": [
        "Hồi quy phi tuyến tính là mối quan hệ giữa các biến độc lập $x$ và biến phụ thuộc $y$ dẫn đến dữ liệu mô hình hóa hàm phi tuyến tính. Về cơ bản, bất kỳ mối quan hệ nào không tuyến tính đều có thể được gọi là phi tuyến tính và thường được biểu diễn bằng đa thức $k$ bậc (Lũy thừa tối đa của $x$). \n",
        "\n",
        "$$ \\ y = a x^3 + b x^2 + c x + d \\ $$\n",
        "\n",
        "Các hàm phi tuyến tính có thể có các phần tử như số mũ, logarit, phân số,.... Ví dụ: $$ y = \\log(x)$$\n",
        "\n",
        "Hoặc thậm chí, phức tạp hơn chẳng hạn như:\n",
        "$$ y = \\log(a x^3 + b x^2 + c x + d)$$\n"
      ]
    },
    {
      "cell_type": "markdown",
      "metadata": {
        "id": "_sJcOgDZlIPl"
      },
      "source": [
        "Hãy xem đồ thị của một hàm số bậc ba.\n"
      ]
    },
    {
      "cell_type": "code",
      "metadata": {
        "id": "5YnYYhgdlIPl"
      },
      "source": [
        "x = np.arange(-5.0, 5.0, 0.1)\n",
        "\n",
        "##You can adjust the slope and intercept to verify the changes in the graph\n",
        "y = 1*(x**3) + 1*(x**2) + 1*x + 3\n",
        "y_noise = 20 * np.random.normal(size=x.size)\n",
        "ydata = y + y_noise\n",
        "plt.plot(x, ydata,  'bo')\n",
        "plt.plot(x,y, 'r') \n",
        "plt.ylabel('Dependent Variable')\n",
        "plt.xlabel('Independent Variable')\n",
        "plt.show()"
      ],
      "execution_count": null,
      "outputs": []
    },
    {
      "cell_type": "markdown",
      "metadata": {
        "id": "IFl6wnRblIPm"
      },
      "source": [
        "Như bạn thấy, hàm này có các biến độc lập $x^3$ và $x^2$. Ngoài ra, đồ thị của hàm này không phải là một đường thẳng trên mặt phẳng 2D. Vì vậy, đây là một hàm phi tuyến tính.\n"
      ]
    },
    {
      "cell_type": "markdown",
      "metadata": {
        "id": "dDzctBBZlIPn"
      },
      "source": [
        "Một số loại hàm phi tuyến tính khác:\n"
      ]
    },
    {
      "cell_type": "markdown",
      "metadata": {
        "id": "P4xk-AStlIPo"
      },
      "source": [
        "### Bậc hai\n"
      ]
    },
    {
      "cell_type": "markdown",
      "metadata": {
        "id": "-vzEXuCNlIPo"
      },
      "source": [
        "$$ Y = X^2 $$\n"
      ]
    },
    {
      "cell_type": "code",
      "metadata": {
        "id": "_mj6_zRplIPp"
      },
      "source": [
        "x = np.arange(-5.0, 5.0, 0.1)\n",
        "\n",
        "# Bạn có thể điều chỉnh độ dốc và hệ số chặn để xác minh những thay đổi trong biểu đồ\n",
        "y = np.power(x,2)\n",
        "y_noise = 2 * np.random.normal(size=x.size)\n",
        "ydata = y + y_noise\n",
        "plt.plot(x, ydata,  'bo')\n",
        "plt.plot(x,y, 'r') \n",
        "plt.ylabel('Dependent Variable')\n",
        "plt.xlabel('Independent Variable')\n",
        "plt.show()"
      ],
      "execution_count": null,
      "outputs": []
    },
    {
      "cell_type": "markdown",
      "metadata": {
        "id": "VDKOs5mylIPp"
      },
      "source": [
        "### Số mũ\n"
      ]
    },
    {
      "cell_type": "markdown",
      "metadata": {
        "id": "6oe57TxblIPq"
      },
      "source": [
        "Một hàm mũ với cơ số c được xác định theo $$ Y = a + b c^X$$ trong đó b ≠0, c > 0 , c ≠1, và x là số thực bất kỳ. Cơ số c là hằng số và số mũ x là một biến.\n"
      ]
    },
    {
      "cell_type": "code",
      "metadata": {
        "id": "8uOy2d9plIPr"
      },
      "source": [
        "X = np.arange(-5.0, 5.0, 0.1)\n",
        "\n",
        "# Bạn có thể điều chỉnh độ dốc và hệ số chặn để xác minh những thay đổi trong biểu đồ\n",
        "Y= np.exp(X)\n",
        "plt.plot(X,Y) \n",
        "plt.ylabel('Dependent Variable')\n",
        "plt.xlabel('Independent Variable')\n",
        "plt.show()"
      ],
      "execution_count": null,
      "outputs": []
    },
    {
      "cell_type": "markdown",
      "metadata": {
        "id": "zSnQkj5ylIPs"
      },
      "source": [
        "### Logarit\n",
        "\n",
        "$y$ là kết quả của việc áp dụng ánh xạ logarit từ input $ x $ tới biến output $y$. Đây là một trong những dạng đơn giản nhất của **log()**: tức là $$ y = \\log(x)$$\n",
        "\n",
        "Hãy nhớ rằng thay vì $x$, có thể sử dụng $X$, có thể là biểu diễn đa thức của $x$. Ở dạng chung, nó sẽ được viết là\n",
        "\\begin{equation}\n",
        "y = \\log(X)\n",
        "\\end{equation}\n"
      ]
    },
    {
      "cell_type": "code",
      "metadata": {
        "id": "WNoSzOzhlIPs"
      },
      "source": [
        "X = np.arange(-5.0, 5.0, 0.1)\n",
        "Y = np.log(X)\n",
        "plt.plot(X,Y) \n",
        "plt.ylabel('Dependent Variable')\n",
        "plt.xlabel('Independent Variable')\n",
        "plt.show()"
      ],
      "execution_count": null,
      "outputs": []
    },
    {
      "cell_type": "markdown",
      "metadata": {
        "id": "1wm_hXwulIPt"
      },
      "source": [
        "### Hàm Sigmoidal/Logistic\n"
      ]
    },
    {
      "cell_type": "markdown",
      "metadata": {
        "id": "6h0hwFL1lIPu"
      },
      "source": [
        "$$ Y = a + \\frac{b}{1+ c^{(X-d)}}$$\n"
      ]
    },
    {
      "cell_type": "code",
      "metadata": {
        "id": "YSmsb8p7lIPu"
      },
      "source": [
        "X = np.arange(-5.0, 5.0, 0.1)\n",
        "\n",
        "\n",
        "Y = 1-4/(1+np.power(3, X-2))\n",
        "\n",
        "plt.plot(X,Y) \n",
        "plt.ylabel('Dependent Variable')\n",
        "plt.xlabel('Independent Variable')\n",
        "plt.show()"
      ],
      "execution_count": null,
      "outputs": []
    },
    {
      "cell_type": "markdown",
      "metadata": {
        "id": "S0Mhe_fBlIPv"
      },
      "source": [
        "<a id=\"ref2\"></a>\n",
        "\n",
        "# Ví dụ Hồi quy Phi tuyến tính\n"
      ]
    },
    {
      "cell_type": "markdown",
      "metadata": {
        "id": "X4HfkWnYlIPw"
      },
      "source": [
        "Ví dụ: chúng ta sẽ thử fit một mô hình phi tuyến tính với điểm dữ liệu tương ứng với GDP của Trung Quốc từ năm 1960 đến năm 2014. Download tập dữ liệu có 2 cột, cột đầu tiên là năm từ 1960 đến 2014, cột thứ hai là Tổng thu nhập quốc nội hàng năm tương ứng của Trung Quốc bằng đô la Mỹ cho năm đó. \n"
      ]
    },
    {
      "cell_type": "code",
      "metadata": {
        "id": "CIYgbYTvlIPw"
      },
      "source": [
        "import numpy as np\n",
        "import pandas as pd\n",
        "    \n",
        "df = pd.read_csv(\"china_gdp.csv\")\n",
        "df.head(10)"
      ],
      "execution_count": null,
      "outputs": []
    },
    {
      "cell_type": "markdown",
      "metadata": {
        "id": "UYKvfENslIPy"
      },
      "source": [
        "### Vẽ đồ thị tập dữ liệu\n",
        "\n",
        "Các điểm dữ liệu sẽ trông như thế này. Nó giống như một hàm logistic hoặc hàm mũ. Sự tăng trưởng bắt đầu chậm, sau đó từ năm 2005 trở đi, tăng trưởng đáng kể. Và cuối cùng, nó giảm tốc độ một chút trong những năm 2010.\n"
      ]
    },
    {
      "cell_type": "code",
      "metadata": {
        "id": "0NeyLOF2lIPy"
      },
      "source": [
        "plt.figure(figsize=(8,5))\n",
        "x_data, y_data = (df[\"Year\"].values, df[\"Value\"].values)\n",
        "plt.plot(x_data, y_data, 'ro')\n",
        "plt.ylabel('GDP')\n",
        "plt.xlabel('Year')\n",
        "plt.show()"
      ],
      "execution_count": null,
      "outputs": []
    },
    {
      "cell_type": "markdown",
      "metadata": {
        "id": "eIjqObJ9lIPz"
      },
      "source": [
        "### Chọn một mô hình\n",
        "\n",
        "Nhìn qua biểu đồ, chúng ta xác định rằng hàm logistic có thể là một phép tiệm cận tốt,\n",
        "vì nó có thuộc tính bắt đầu tăng chậm, tăng lên ở giữa và sau đó lại giảm ở cuối, như minh họa dưới đây:\n"
      ]
    },
    {
      "cell_type": "code",
      "metadata": {
        "id": "xwgzkB7FlIPz"
      },
      "source": [
        "X = np.arange(-5.0, 5.0, 0.1)\n",
        "Y = 1.0 / (1.0 + np.exp(-X))\n",
        "\n",
        "plt.plot(X,Y) \n",
        "plt.ylabel('Dependent Variable')\n",
        "plt.xlabel('Independent Variable')\n",
        "plt.show()"
      ],
      "execution_count": null,
      "outputs": []
    },
    {
      "cell_type": "markdown",
      "metadata": {
        "id": "Qi_nH8nQlIP0"
      },
      "source": [
        "Công thức cho hàm logistic như sau:\n",
        "\n",
        "$$ \\hat{Y} = \\frac1{1+e^{\\beta_1(X-\\beta_2)}}$$\n",
        "\n",
        "$\\beta_1$: Kiểm soát độ dốc của đường cong,\n",
        "\n",
        "$\\beta_2$: Trượt đường cong trên trục x.\n"
      ]
    },
    {
      "cell_type": "markdown",
      "metadata": {
        "id": "EdXHQIzTlIP0"
      },
      "source": [
        "### Xây dựng mô hình\n",
        "\n",
        "Bây giờ, hãy xây dựng mô hình hồi quy và khởi tạo các tham số của nó. \n"
      ]
    },
    {
      "cell_type": "code",
      "metadata": {
        "id": "EBj6f8OxlIP1"
      },
      "source": [
        "def sigmoid(x, Beta_1, Beta_2):\n",
        "     y = 1 / (1 + np.exp(-Beta_1*(x-Beta_2)))\n",
        "     return y"
      ],
      "execution_count": null,
      "outputs": []
    },
    {
      "cell_type": "markdown",
      "metadata": {
        "id": "5u7yz66ulIP1"
      },
      "source": [
        "Hãy xem đường sigmoid mẫu có fit với dữ liệu không:\n"
      ]
    },
    {
      "cell_type": "code",
      "metadata": {
        "id": "MQM3LeoblIP1"
      },
      "source": [
        "beta_1 = 0.10\n",
        "beta_2 = 1990.0\n",
        "\n",
        "# Logistic function\n",
        "Y_pred = sigmoid(x_data, beta_1 , beta_2)\n",
        "\n",
        "# Trực quan dự đoán ban đầu so với điểm dữ liệu\n",
        "plt.plot(x_data, Y_pred*15000000000000.)\n",
        "plt.plot(x_data, y_data, 'ro')"
      ],
      "execution_count": null,
      "outputs": []
    },
    {
      "cell_type": "markdown",
      "metadata": {
        "id": "UW0Rkrt5lIP2"
      },
      "source": [
        "Nhiệm vụ của chúng ta ở đây là tìm ra các thông số tốt nhất cho mô hình. Trước tiên hãy chuẩn hóa x và y:\n"
      ]
    },
    {
      "cell_type": "code",
      "metadata": {
        "id": "5B-Prci4lIP2"
      },
      "source": [
        "# Hãy normalize dữ liệu\n",
        "xdata = x_data/max(x_data)\n",
        "ydata = y_data/max(y_data)"
      ],
      "execution_count": null,
      "outputs": []
    },
    {
      "cell_type": "markdown",
      "metadata": {
        "id": "IP7hEtWXlIP3"
      },
      "source": [
        "#### Làm thế nào chúng ta tìm ra các thông số tốt nhất cho fit line?\n",
        "\n",
        "Chúng ta có thể dùng **curve_fit** sử dụng bình phương tối thiểu phi tuyến tính để fit hàm sigmoid với dữ liệu. Giá trị tối ưu cho các tham số để tổng bình phương phần dư của sigmoid (xdata,* popt) - ydata được giảm thiểu.\n",
        "\n",
        "popt là các thông số được tối ưu hóa.\n"
      ]
    },
    {
      "cell_type": "code",
      "metadata": {
        "id": "h5b_rMQ0lIP3"
      },
      "source": [
        "from scipy.optimize import curve_fit\n",
        "popt, pcov = curve_fit(sigmoid, xdata, ydata)\n",
        "# In các tham số cuối cùng\n",
        "print(\" beta_1 = %f, beta_2 = %f\" % (popt[0], popt[1]))"
      ],
      "execution_count": null,
      "outputs": []
    },
    {
      "cell_type": "markdown",
      "metadata": {
        "id": "Up-Z3ECklIP4"
      },
      "source": [
        "Bây giờ hãy vẽ thành quả mô hình hồi quy.\n"
      ]
    },
    {
      "cell_type": "code",
      "metadata": {
        "id": "SwbmYEJxlIP4"
      },
      "source": [
        "x = np.linspace(1960, 2015, 55)\n",
        "x = x/max(x)\n",
        "plt.figure(figsize=(8,5))\n",
        "y = sigmoid(x, *popt)\n",
        "plt.plot(xdata, ydata, 'ro', label='data')\n",
        "plt.plot(x,y, linewidth=3.0, label='fit')\n",
        "plt.legend(loc='best')\n",
        "plt.ylabel('GDP')\n",
        "plt.xlabel('Year')\n",
        "plt.show()"
      ],
      "execution_count": null,
      "outputs": []
    },
    {
      "cell_type": "markdown",
      "metadata": {
        "id": "Xu_u6LCalIP5"
      },
      "source": [
        "## Thực hành\n",
        "\n",
        "Bạn có thể tính toán độ chính xác của mô hình của chúng ta là bao nhiêu không?\n"
      ]
    },
    {
      "cell_type": "code",
      "metadata": {
        "id": "d893wJlrlIP5"
      },
      "source": [
        "# Nhập code của bạn tại đây\n",
        "\n",
        "\n"
      ],
      "execution_count": null,
      "outputs": []
    },
    {
      "cell_type": "markdown",
      "metadata": {
        "id": "bdQk6tRvlIP5"
      },
      "source": [
        "<details><summary>Click vào đây để xem lời giải</summary>\n",
        "\n",
        "```python\n",
        "# split data into train/test\n",
        "msk = np.random.rand(len(df)) < 0.8\n",
        "train_x = xdata[msk]\n",
        "test_x = xdata[~msk]\n",
        "train_y = ydata[msk]\n",
        "test_y = ydata[~msk]\n",
        "\n",
        "# build the model using train set\n",
        "popt, pcov = curve_fit(sigmoid, train_x, train_y)\n",
        "\n",
        "# predict using test set\n",
        "y_hat = sigmoid(test_x, *popt)\n",
        "\n",
        "# evaluation\n",
        "print(\"Mean absolute error: %.2f\" % np.mean(np.absolute(y_hat - test_y)))\n",
        "print(\"Residual sum of squares (MSE): %.2f\" % np.mean((y_hat - test_y) ** 2))\n",
        "from sklearn.metrics import r2_score\n",
        "print(\"R2-score: %.2f\" % r2_score(y_hat , test_y) )\n",
        "\n",
        "```\n",
        "\n",
        "</details>\n"
      ]
    },
    {
      "cell_type": "markdown",
      "metadata": {
        "id": "PJKgYVEvlIP7"
      },
      "source": [
        "### Cảm ơn bạn đã hoàn thành lab này!\n",
        "\n",
        "Nguồn bài Lab: **IBM**"
      ]
    }
  ]
}